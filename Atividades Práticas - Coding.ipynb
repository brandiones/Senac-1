{
 "cells": [
  {
   "cell_type": "markdown",
   "metadata": {},
   "source": [
    "1) Questão: Faça um Programa que verifique se uma leta digitada é vogal ou consoante."
   ]
  },
  {
   "cell_type": "code",
   "execution_count": 8,
   "metadata": {},
   "outputs": [
    {
     "name": "stdout",
     "output_type": "stream",
     "text": [
      "Sua letra é: \" a \" é uma vogal.\n"
     ]
    }
   ],
   "source": [
    "letra = input(\"Digite uma letra:\")\n",
    "if (letra == 'A' or letra == 'a' or letra == 'E' or letra == 'e' or letra == 'I' or letra == 'i' or letra == 'O' or letra == 'o' or letra == 'U' or letra == 'u'):\n",
    "    print(\"Sua letra é: \"'\"',letra,'\"' \" é uma vogal.\")\n",
    "else:\n",
    "    print(\"Sua letra é: \"'\"',letra,'\"'  \"é uma consoante.\" )    "
   ]
  },
  {
   "cell_type": "markdown",
   "metadata": {},
   "source": [
    "2) Questão: Faça um programa que pergunte o preço de três produtos e informe qual produto você deve comprar, sabendo que a decisão é sempre pelo mais barato."
   ]
  },
  {
   "cell_type": "code",
   "execution_count": 1,
   "metadata": {},
   "outputs": [
    {
     "name": "stdout",
     "output_type": "stream",
     "text": [
      "O primeiro produto de R$: 1.0 é o que deve comprar.\n"
     ]
    }
   ],
   "source": [
    "produto1 = float(input(\"Digite o valor do produto:\"))\n",
    "produto2 = float(input(\"Digite o valor do produto:\"))\n",
    "produto3 = float(input(\"Digite o valor do produto:\"))\n",
    "if (produto1 < produto2 ):\n",
    "    if(produto1 < produto3):\n",
    "        print(\"O primeiro produto de R$:\",produto1,\"é o que deve comprar.\")\n",
    "    else:\n",
    "        print(\"O primeiro produto de R$:\",produto3,\"é o que deve comprar.\")\n",
    "elif (produto2 < produto3):\n",
    "    print(\"O primeiro produto de R$:\",produto2,\"é o que deve comprar.\")\n",
    "else:\n",
    "    print(\"O primeiro produto de R$:\",produto3,\"é o que deve comprar.\")"
   ]
  },
  {
   "cell_type": "markdown",
   "metadata": {},
   "source": [
    "3) Questão: Faça um Programa que leia três números e mostre-os em ordem decrescente."
   ]
  },
  {
   "cell_type": "code",
   "execution_count": 3,
   "metadata": {},
   "outputs": [
    {
     "name": "stdout",
     "output_type": "stream",
     "text": [
      "\n",
      " 3.0 \n",
      " 2.0 \n",
      " 1.0\n"
     ]
    }
   ],
   "source": [
    "num1 = float(input(\"Digite o valor do produto:\"))\n",
    "num2 = float(input(\"Digite o valor do produto:\"))\n",
    "num3 = float(input(\"Digite o valor do produto:\"))\n",
    "if(num1 > num2) and (num1 > num3) and (num2 > num3):\n",
    "    print(\"\\n\",num1,\"\\n\",num2,\"\\n\", num3)\n",
    "elif(num1 > num2) and (num1 > num3) and (num3 > num2):\n",
    "    print(\"\\n\",num1,\"\\n\",num3,\"\\n\", num2)\n",
    "elif(num2 > num1) and (num2 > num3) and (num3 > num2):\n",
    "    print(\"\\n\",num2,\"\\n\",num1,\"\\n\", num3)\n",
    "elif(num2 > num1) and (num2 > num3) and (num1 > num3):\n",
    "    print(\"\\n\",num3,\"\\n\",num1,\"\\n\", num3)\n",
    "elif(\"\\n\",num3,\"\\n\",num2,\"\\n\", num1):\n",
    "    print(\"\\n\",num3,\"\\n\",num2,\"\\n\", num1)\n",
    "else:\n",
    "    print(\"\\n\",num3,\"\\n\",num1,\"\\n\", num2)"
   ]
  },
  {
   "cell_type": "markdown",
   "metadata": {},
   "source": [
    "4) Questão: Faça um Programa que pergunte em que turno você estuda. Peça para digitar M-Matutino ou V-Vespetino ou N-Notuno. Imprima a mensagem \"Bom dia!\", \"Boa tarde!\", ou \"Boa Noite!\" ou \"Valor Inváldo!\", conforme o caso."
   ]
  },
  {
   "cell_type": "code",
   "execution_count": 8,
   "metadata": {},
   "outputs": [
    {
     "name": "stdout",
     "output_type": "stream",
     "text": [
      "Bom dia!\n"
     ]
    }
   ],
   "source": [
    "turno = input(\"Qual turno você estuda?\" \"M-Matutino, V-Vespetino ou N-Notuno\")\n",
    "if turno == \"M\" or turno == \"m\":\n",
    "    print(\"Bom dia!\")\n",
    "elif turno == \"V\" or turno == \"v\":\n",
    "    print(\"Boa tarde!\")\n",
    "elif turno == \"N\" or turno == \"n\":\n",
    "    print(\"Boa Noite!\")\n",
    "else:\n",
    "    print(\"Valor Inváldo!\")\n"
   ]
  },
  {
   "cell_type": "markdown",
   "metadata": {},
   "source": [
    "5) Questão: Faça um Programa que leia um número e exiba o dia correspondente da semana. (1-Domindo, 2-Segunda, etc). se for digitado outro valor deve retornar uma mensagem informando valor inválido."
   ]
  },
  {
   "cell_type": "code",
   "execution_count": 16,
   "metadata": {},
   "outputs": [
    {
     "name": "stdout",
     "output_type": "stream",
     "text": [
      "O dia da semana é Segunda\n"
     ]
    }
   ],
   "source": [
    "diaSemana = input(\"Qual o dia da semana?\" \"1-Domingo, 2-Segunda, 3-Terça, 4-Quarta, 5-Quinta, 6-sexta e 7-Sabádo\")\n",
    "if diaSemana == \"1\":\n",
    "    print(\"O dia da semana é Domingo\")\n",
    "elif diaSemana == \"2\":\n",
    "    print(\"O dia da semana é Segunda\")\n",
    "elif diaSemana == \"3\":\n",
    "    print(\"O dia da semana é Terça\")\n",
    "elif diaSemana == \"4\":\n",
    "    print(\"O dia da semana é Quarta\")\n",
    "elif diaSemana == \"5\":\n",
    "    print(\"O dia da semana é Quinta\")\n",
    "elif diaSemana == \"6\":\n",
    "    print(\"O dia da semana é Sexta\")\n",
    "elif diaSemana == \"7\":\n",
    "    print(\"O dia da semana é Sabádo\")\n",
    "else:\n",
    "    print(\"Valor inválido\")"
   ]
  },
  {
   "cell_type": "markdown",
   "metadata": {},
   "source": [
    "5) 5.1 Questão: Faça um Programa que lê as duas notas parciais obtidas por um aluno numa disciplina ao longo de um semestre, e calcule a sua média. A atribuição de conceitos obedece às regras:\n",
    " \n",
    "Média de Aproveitamento           Conceito\n",
    "Entre 9.0 e 10.0                    A\n",
    "Entre 7.5 e 9.0                     B\n",
    "Entre 6.0 e 7.5                     C\n",
    "Entre 4.0 e 6.0                     D\n",
    "Entre 4.0 e zero                    E\n",
    " \n",
    "O Programa deve mostrar na tela as notas, média, o conceito correspondente e a mensagem \"APROVADO\" se o conceito for A, B ou C \"REPROVADO\" se o conceito for D ou E."
   ]
  },
  {
   "cell_type": "code",
   "execution_count": 45,
   "metadata": {},
   "outputs": [
    {
     "name": "stdout",
     "output_type": "stream",
     "text": [
      "\n",
      " ( 5.5 + 5.5 ) /2 = 5.5 \n",
      " Sua média foi: 5.5 \n",
      " Seu conceito foi D.\n",
      " Você foi REPROVADO!!!! \n"
     ]
    }
   ],
   "source": [
    "nota1 = float(input(\"Digite sua primeira nota:\"))\n",
    "nota2 = float(input(\"Digite sua segunda nota:\"))\n",
    "media = (nota1 + nota2) / 2\n",
    "if media >= 9.0 and media <= 10.0:\n",
    "    print(\"\\n (\",nota1, \"+\",nota2,\") /2 =\",media, \"\\n Sua média foi:\",media, \"\\n Seu conceito foi A.\" \"\\n Parabéns você foi APROVADO!!! \")\n",
    "elif media >= 7.5 and media <= 8.9:\n",
    "    print(\"\\n (\",nota1, \"+\",nota2,\") /2 =\",media, \"\\n Sua média foi:\",media, \"\\n Seu conceito foi B.\" \"\\n Parabéns você foi APROVADO!!! \")\n",
    "elif media >= 6.0 and media <= 7.4:\n",
    "    print(\"\\n (\",nota1, \"+\",nota2,\") /2 =\",media, \"\\n Sua média foi:\",media, \"\\n Seu conceito foi C.\" \"\\n Parabéns você foi APROVADO!!! \")\n",
    "elif media >= 4.0 and media <= 5.9:\n",
    "    print(\"\\n (\",nota1, \"+\",nota2,\") /2 =\",media, \"\\n Sua média foi:\",media, \"\\n Seu conceito foi D.\" \"\\n Você foi REPROVADO!!!! \")\n",
    "else:\n",
    "    print(\"\\n (\",nota1, \"+\",nota2,\") /2 =\",media, \"\\n Sua média foi:\",media, \"\\n Seu conceito foi E.\" \"\\n Você foi REPROVADO!!!! \")"
   ]
  },
  {
   "cell_type": "markdown",
   "metadata": {},
   "source": [
    "6) Questão: Faça um Programa que peça um número correspondente a um determinado ano e em seguida informe se este ano é ou não bissexto."
   ]
  },
  {
   "cell_type": "code",
   "execution_count": 51,
   "metadata": {},
   "outputs": [
    {
     "name": "stdout",
     "output_type": "stream",
     "text": [
      "É um ano Bissexto\n"
     ]
    }
   ],
   "source": [
    "ano = int(input(\"Digite um ano:\"))\n",
    "if (ano %4 == 0 and ano%100 != 0) or ano%400 == 0:\n",
    "    print(\"É um ano Bissexto\")\n",
    "else:\n",
    "    print(\"Não é um ano Bissexto\")"
   ]
  },
  {
   "cell_type": "markdown",
   "metadata": {},
   "source": [
    "7) Questão: Faça um Programa que leia 2 números e em seguida pergunte ao usuário qual operação básica (soma, subtração, multipllicação divisão, exponenciação) ele deseja realizar. O resultado da operção deve ser acompanhado de uma frase que diga se o número é PAR ou ÍMPAR; POSITIVO ou NEGATIVO; INTEIRO ou DECIMAL."
   ]
  },
  {
   "cell_type": "code",
   "execution_count": 16,
   "metadata": {},
   "outputs": [
    {
     "name": "stdout",
     "output_type": "stream",
     "text": [
      "resultado de 10.0 + 20.0 = 30.0\n",
      " é um numero par, positivo e inteiro\n"
     ]
    }
   ],
   "source": [
    "num1 = float(input(\"escolha um numero\"))\n",
    "ope = input(\"digite a operação que você deseja, +, -, , /, * \")\n",
    "num2 = float(input(\"escolha outro numero\"))\n",
    "\n",
    "if (ope == \"+\"):\n",
    "    resp = num1 + num2\n",
    "    if resp % 2 == 0 and resp >= 0 and resp % 1 == 0:\n",
    "        print(f\"resultado de {num1} + {num2} = {resp}\\n é um numero par, positivo e inteiro\")\n",
    "    elif resp % 2 != 0 and resp >= 0 and resp % 1 == 0:\n",
    "        print(f\"resultado de {num1} + {num2} = {resp}\\n é um numero impar, positivo e inteiro\")\n",
    "    elif resp % 2 == 0 and resp < 0 and resp % 1 == 0:\n",
    "        print(f\"resultado de {num1} + {num2} = {resp}\\n é um numero par, negativo e inteiro\")\n",
    "    elif resp % 2 != 0 and resp < 0 and resp % 1 == 0:\n",
    "        print(f\"resultado de {num1} + {num2} = {resp}\\n é um numero impar, negativo e inteiro\")\n",
    "    elif resp > 0 and resp % 1 != 0:\n",
    "        print(f\"resultado de {num1} + {num2} = {resp}\\n é um numero positivo e decimal\")\n",
    "    else:\n",
    "        print(f\"resultado de {num1} + {num2} = {resp}\\n é um numero negativo e decimal\")\n",
    "\n",
    "elif (ope == \"-\"):\n",
    "    resp = num1 - num2\n",
    "    if resp % 2 == 0 and resp >= 0 and resp % 1 == 0:\n",
    "        print(f\"resultado de {num1} - {num2} = {resp}\\n é um numero par, positivo e inteiro\")\n",
    "    elif resp % 2 != 0 and resp >= 0 and resp % 1 == 0:\n",
    "        print(f\"resultado de {num1} - {num2} = {resp}\\n é um numero impar, positivo e inteiro\")\n",
    "    elif resp % 2 == 0 and resp < 0 and resp % 1 == 0:\n",
    "        print(f\"resultado de {num1} - {num2} = {resp}\\n é um numero par, negativo e inteiro\")\n",
    "    elif resp % 2 != 0 and resp < 0 and resp % 1 == 0:\n",
    "        print(f\"resultado de {num1} - {num2} = {resp}\\n é um numero impar, negativo e inteiro\")\n",
    "    elif resp > 0 and resp % 1 != 0:\n",
    "        print(f\"resultado de {num1} - {num2} = {resp}\\n é um numero positivo e decimal\")\n",
    "    else:\n",
    "        print(f\"resultado de {num1} - {num2} = {resp}\\n é um numero negativo e decimal\")\n",
    "\n",
    "elif (ope == \"*\"):\n",
    "    resp = num1 * num2\n",
    "    if resp % 2 == 0 and resp >= 0 and resp % 1 == 0:\n",
    "        print(f\"resultado de {num1} x {num2} = {resp}\\n é um numero par, positivo e inteiro\")\n",
    "    elif resp % 2 != 0 and resp >= 0 and resp % 1 == 0:\n",
    "        print(f\"resultado de {num1} x {num2} = {resp}\\n é um numero impar, positivo e inteiro\")\n",
    "    elif resp % 2 == 0 and resp < 0 and resp % 1 == 0:\n",
    "        print(f\"resultado de {num1} x {num2} = {resp}\\n é um numero par, negativo e inteiro\")\n",
    "    elif resp % 2 != 0 and resp < 0 and resp % 1 == 0:\n",
    "        print(f\"resultado de {num1} x {num2} = {resp}\\n é um numero impar, negativo e inteiro\")\n",
    "    elif resp > 0 and resp % 1 != 0:\n",
    "        print(f\"resultado de {num1} x {num2} = {resp}\\n é um numero positivo e decimal\")\n",
    "    else:\n",
    "        print(f\"resultado de {num1} x {num2} = {resp}\\n é um numero negativo e decimal\")\n",
    "\n",
    "elif (ope == \"/\"):\n",
    "    resp = num1 / num2\n",
    "    if resp % 2 == 0 and resp >= 0 and resp % 1 == 0:\n",
    "        print(f\"resultado de {num1} / {num2} = {resp}\\n é um numero par, positivo e inteiro\")\n",
    "    elif resp % 2 != 0 and resp >= 0 and resp % 1 == 0:\n",
    "        print(f\"resultado de {num1} / {num2} = {resp}\\n é um numero impar, positivo e inteiro\")\n",
    "    elif resp % 2 == 0 and resp < 0 and resp % 1 == 0:\n",
    "        print(f\"resultado de {num1} / {num2} = {resp}\\n é um numero par, negativo e inteiro\")\n",
    "    elif resp % 2 != 0 and resp < 0 and resp % 1 == 0:\n",
    "        print(f\"resultado de {num1} / {num2} = {resp}\\n é um numero impar, negativo e inteiro\")\n",
    "    elif resp > 0 and resp % 1 != 0:\n",
    "        print(f\"resultado de {num1} / {num2} = {resp}\\n é um numero positivo e decimal\")\n",
    "    else:\n",
    "        print(f\"resultado de {num1} / {num2} = {resp}\\n é um numero negativo e decimal\")\n",
    "\n",
    "elif (ope == \"**\"):\n",
    "    resp = num1 ** num2\n",
    "    if resp % 2 == 0 and resp >= 0 and resp % 1 == 0:\n",
    "        print(f\"resultado de {num1} ^ {num2} = {resp}\\n é um numero par, positivo e inteiro\")\n",
    "    elif resp % 2 != 0 and resp >= 0 and resp % 1 == 0:\n",
    "        print(f\"resultado de {num1} ^ {num2} = {resp}\\n é um numero impar, positivo e inteiro\")\n",
    "    elif resp % 2 == 0 and resp < 0 and resp % 1 == 0:\n",
    "        print(f\"resultado de {num1} ^ {num2} = {resp}\\n é um numero par, negativo e inteiro\")\n",
    "    elif resp % 2 != 0 and resp < 0 and resp % 1 == 0:\n",
    "        print(f\"resultado de {num1} ^ {num2} = {resp}\\n é um numero impar, negativo e inteiro\")\n",
    "    elif resp > 0 and resp % 1 != 0:\n",
    "        print(f\"resultado de {num1} ^ {num2} = {resp}\\n é um numero positivo e decimal\")\n",
    "    else:\n",
    "        print(f\"resultado de {num1} ^ {num2} = {resp}\\n é um numero negativo e decimal\")"
   ]
  },
  {
   "cell_type": "markdown",
   "metadata": {},
   "source": [
    "8) Faça um Programa que peça a idade e exiba a informação. Os valores aceitáveis devem estar entre 0 e 150. Valores for desse limite não poderão ser aceitos."
   ]
  },
  {
   "cell_type": "code",
   "execution_count": 6,
   "metadata": {},
   "outputs": [
    {
     "name": "stdout",
     "output_type": "stream",
     "text": [
      "Sua idade não e aceitável.\n"
     ]
    }
   ],
   "source": [
    "idade = int(input(\"Digite sua idade:\"))\n",
    "if idade >= 0 and idade <= 150:\n",
    "    print(\"Sua ideda é aceitável.\")\n",
    "else:\n",
    "    print(\"Sua idade não e aceitável.\")"
   ]
  },
  {
   "cell_type": "markdown",
   "metadata": {},
   "source": [
    "9) Utilizando estruturas de repetição e lista (com ou sem .append), faça um programa que leia 5 números e informe a soma e a média dos números."
   ]
  },
  {
   "cell_type": "code",
   "execution_count": 16,
   "metadata": {},
   "outputs": [
    {
     "name": "stdout",
     "output_type": "stream",
     "text": [
      "\n",
      " A soma dos números são: 50.0 \n",
      " A média dos números são: 10.0\n"
     ]
    }
   ],
   "source": [
    "soma = 0\n",
    "for num in range(5):\n",
    "    n = float(input(\"Digite um número:\"))\n",
    "    soma += n\n",
    "media = soma / 5\n",
    "print(f\"\\n A soma dos números são: {soma} \\n A média dos números são: {media}\")\n"
   ]
  },
  {
   "cell_type": "markdown",
   "metadata": {},
   "source": [
    "10) Faça um Programa que peça um número inteiro e determine se ele é ou não um número primo. Um número primo é aquele que divisível somente por ele mesmo e por 1."
   ]
  },
  {
   "cell_type": "code",
   "execution_count": 2,
   "metadata": {},
   "outputs": [
    {
     "name": "stdout",
     "output_type": "stream",
     "text": [
      "Seu número é PRIMO\n"
     ]
    }
   ],
   "source": [
    "primos = 0\n",
    "primo = int(input(\"Digite um número:\"))\n",
    "for i in range(1,primo + 1):\n",
    "    if primo% i ==0:\n",
    "        primos +=1\n",
    "if primos == 2:\n",
    "    print(\"Seu número é PRIMO\")\n",
    "else:\n",
    "    print(\"Seu número não é PRIMO\")"
   ]
  },
  {
   "cell_type": "markdown",
   "metadata": {},
   "source": [
    "11) O Departamento Estadual de Metereologia lhe contratou para desenvolver um programa que leia 5 temperaturas, e informe ao final a menor e a maior temperatura informadas, bem como a média das temperaturas."
   ]
  },
  {
   "cell_type": "code",
   "execution_count": 13,
   "metadata": {},
   "outputs": [
    {
     "name": "stdout",
     "output_type": "stream",
     "text": [
      "Sua temperatura média é: 30.0 °C\n",
      "Sua temperatura maior é: 50.0 °C\n",
      "Sua temperatura menor é: 10.0 °C\n"
     ]
    }
   ],
   "source": [
    "soma = 0\n",
    "for i in range(5):\n",
    "    temp = float(input('Digite uma temperatura:'))\n",
    "    soma += temp\n",
    "    if i == 0:\n",
    "        menor = maior = temp\n",
    "    if temp > maior:\n",
    "        maior = temp\n",
    "    if temp < menor:\n",
    "        menor = temp\n",
    "media = soma / 5\n",
    "print(f\"Sua temperatura média é: {media} °C\")\n",
    "print(f\"Sua temperatura maior é: {maior} °C\")\n",
    "print(f\"Sua temperatura menor é: {menor} °C\")\n"
   ]
  },
  {
   "cell_type": "markdown",
   "metadata": {},
   "source": [
    "12) Um banco concederá um crédito especial aos seus clientes, variáveis com o saldo médio no último ano. Faça um algaritmo que leia o saldo médio de um cliente e calcule o valor do crédito de acordo com a tabela abaixo. Mostre uma mensagem informando o saldo médio e o valor do crédito.\n",
    " \n",
    "Saldo médio                     Percentual\n",
    "de   0 a 200                   nenhum crédito\n",
    "de 201 a 400                   20% do valor do saldo médio\n",
    "de 401 a 600                   30% do valor do saldo médio\n",
    "acima de 601                   40% do valor do saldo médio"
   ]
  },
  {
   "cell_type": "code",
   "execution_count": 21,
   "metadata": {},
   "outputs": [
    {
     "name": "stdout",
     "output_type": "stream",
     "text": [
      "Seu saldo médio é: 400.0 e você ganhou 80.0 do valor de crédito.\n"
     ]
    }
   ],
   "source": [
    "credito = float(input(\"Digite seu saldo médio:\"))\n",
    "if credito >= 0 and credito <= 200:\n",
    "    print(f\"Seu saldo médio é: {credito} e não tem nenhum crédito.\")\n",
    "elif credito >=201 and credito <= 400:\n",
    "    total = (credito*(20/100))\n",
    "    print(f\"Seu saldo médio é: {credito} e você ganhou {total} do valor de crédito.\")\n",
    "elif credito >=401 and credito <= 600:\n",
    "    total = (credito*(30/100))\n",
    "    print(f\"Seu saldo médio é: {credito} e você ganhou {total} do valor de crédito.\")\n",
    "else:\n",
    "    total = (credito*(40/100))\n",
    "    print(f\"Seu saldo médio é: {credito} e você ganhou {total} do valor de crédito.\")"
   ]
  },
  {
   "cell_type": "markdown",
   "metadata": {},
   "source": [
    "13) Você foi contratado(a) para fazer um serviço para o INSS (Instituto Nacional do Seguro Social) do Brasil. O trabalho consiste em criar um programa que diga a pessoa o ano que ela poderá se aposentar. Você deve perguntar a pessoa, o nome, a idade e criar uma mensagem dizendo em qual ano ela iá aposentar Considere que todas as pessoas poderãos e aposntar aos 65 anos de idade."
   ]
  },
  {
   "cell_type": "code",
   "execution_count": 20,
   "metadata": {},
   "outputs": [
    {
     "name": "stdout",
     "output_type": "stream",
     "text": [
      "Walison Brandão você irá se aposentar no ano de: 2069\n"
     ]
    }
   ],
   "source": [
    "nome = input(\"Digite seu nome:\")\n",
    "idade = int(input(\"Digite sua idade:\"))\n",
    "aposentar = 65 - idade\n",
    "ano = aposentar + 2023\n",
    "if aposentar <= 0:\n",
    "    print(\"Você já é aposentado!\")\n",
    "else:\n",
    "    print(f\"{nome} você irá se aposentar no ano de: {ano}\" )\n",
    "\n"
   ]
  },
  {
   "cell_type": "markdown",
   "metadata": {},
   "source": [
    "14) Faça um Programa para cálculo de uma folha de pagamento, sabendo que os descontos são do Imposto de Renda, que depende do salário bruto (conforme tabela abaixo), 3% para o Sindicato e que o FGTS corresponde a 11% do salário bruto, mas não é descontado (é a empresa que deposita). O salário líquido corresponde ao salário bruto menos os descontos. O programa deverá pedir ao usuário o valor da sua hora e a quantidade de horas trabalhadas no mês.\n",
    " \n",
    "Desconto do IR:\n",
    "Salário Bruto até 2.112,00 (inclisive) - Insento;\n",
    "De 2.112,01 até 2.826,65 (inclisive) - desconto de 7.5%;\n",
    "De 2.826,66 até 3.751,05 (inclisive) - desconto de 15%;\n",
    "De 3.751,06 até 4.664,68 (inclisive) - desconto de 22.5%;\n",
    "Acima de 4.664,68 - desconto de 27.5%;"
   ]
  },
  {
   "cell_type": "code",
   "execution_count": 11,
   "metadata": {},
   "outputs": [
    {
     "name": "stdout",
     "output_type": "stream",
     "text": [
      "\n",
      " Seu salário é: R$ 86000.0 \n",
      " Você obteve 27,5% de desconto! \n",
      " Total do desconto: R$ 60479.5.\n"
     ]
    }
   ],
   "source": [
    "valor = float(input('Quanto você ganha por hora?'))\n",
    "hora = int(input('Quantas horas você trabalha por mês?'))\n",
    "salario = (valor * hora)\n",
    "bruto = salario - (salario*0.03)\n",
    "if salario >= 0 and salario <= 2111.99:\n",
    "    print(f\"\\n Seu salário é: R$ {salario} \\n Insento de Imposto de Renda.\")\n",
    "elif salario >= 2112.00 and salario <= 2826.64:\n",
    "    total = bruto - (bruto*(7.5/100))\n",
    "    print(f\"\\n Seu salário é: R$ {salario} \\n Você obteve 7,5% de desconto! \\n Total do desconto: R$ {total}.\")\n",
    "elif salario >= 2826.65 and salario <= 3751.05:\n",
    "    total = bruto - (bruto*(15/100))\n",
    "    print(f\"\\n Seu salário é: R$ {salario} \\n Você obteve 15% de desconto! \\n Total do desconto: R$ {total}.\")\n",
    "elif salario >= 3751.06 and salario <= 4663.68:\n",
    "    total = bruto - (bruto*(22.5/100))\n",
    "    print(f\"\\n Seu salário é: R$ {salario} \\n Você obteve 22,5% de desconto! \\n Total do desconto: R$ {total}.\")\n",
    "else:\n",
    "    total = bruto - (bruto*(27.5/100))\n",
    "    print(f\"\\n Seu salário é: R$ {salario} \\n Você obteve 27,5% de desconto! \\n Total do desconto: R$ {total}.\")\n"
   ]
  }
 ],
 "metadata": {
  "kernelspec": {
   "display_name": "Python 3",
   "language": "python",
   "name": "python3"
  },
  "language_info": {
   "codemirror_mode": {
    "name": "ipython",
    "version": 3
   },
   "file_extension": ".py",
   "mimetype": "text/x-python",
   "name": "python",
   "nbconvert_exporter": "python",
   "pygments_lexer": "ipython3",
   "version": "3.12.3"
  }
 },
 "nbformat": 4,
 "nbformat_minor": 2
}
