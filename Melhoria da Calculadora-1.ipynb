{
 "cells": [
  {
   "cell_type": "code",
   "execution_count": null,
   "metadata": {},
   "outputs": [],
   "source": [
    "def soma(n1, n2): # função somar\n",
    "    return n1 + n2\n",
    "def subtrai(n1, n2): # função subtrair\n",
    "    return n1 - n2\n",
    "def multiplica(n1, n2): # função multiplicar\n",
    "    return n1 * n2\n",
    "def divide(n1, n2): # função dividir\n",
    "    return n1 / n2\n",
    "while True: # laço de repetição\n",
    "    try: #enquanto não hover exceções durante a execução do try o código vai rodar normlmente\n",
    "        print(\"+==================+\")\n",
    "        print(\"| MENU DE OPERAÇÕES|\")\n",
    "        print(\"|  1 - somar       |\")\n",
    "        print(\"|  2 - subtrair    |\")\n",
    "        print(\"|  3 - multiplicar |\")\n",
    "        print(\"|  4 - dividir     |\")\n",
    "        print(\"|  0 - sair        |\")\n",
    "        print(\"+==================+\")\n",
    "        op = int(input()) # declarando a varíavel op em input\n",
    "        if op==0:\n",
    "            print(\"Você encerrou a calculadora!\")\n",
    "            break # para a repetição\n",
    "        if op == 1: # se o usuário digitar 1, entra nesse if\n",
    "            n1 = float(input(\"Primeiro número: \")) # pedindo o valor o usuário\n",
    "            n2 = float(input(\"Segundo número: \"))\n",
    "            print(\"O resultado da soma é: \", soma(n1, n2))\n",
    "            break\n",
    "        elif op == 2:\n",
    "            n1 = float(input(\"Primeiro número: \"))\n",
    "            n2 = float(input(\"Segundo número: \"))\n",
    "            print(\"O resultado da subtração é: \", subtrai(n1, n2))\n",
    "            break\n",
    "        elif op == 3:\n",
    "            n1 = float(input(\"Primeiro número: \"))\n",
    "            n2 = float(input(\"Segundo número: \"))\n",
    "            print(\"O resultado da multiplicação é: \", multiplica(n1, n2))\n",
    "            break\n",
    "        elif op == 4:\n",
    "            n1 = float(input(\"Primeiro número: \"))\n",
    "            n2 = float(input(\"Segundo número: \"))\n",
    "            print(\"O resultado da divisão é: \", divide(n1, n2))\n",
    "            break\n",
    "        elif op > 4: # se o usuário digitar um número maior que 4, vai exibir uma mensagem logo abaixo\n",
    "            raise ValueError #  tem como finalidade invocar uma Exception no momento oportuno\n",
    "    except ValueError: #  se houver alguma excercão, vai exibir uma mensagem de erro e o código vai entar no laço de repetição(até a condição for verdadeira)\n",
    "        print(\"Número inserido inválido!\")"
   ]
  }
 ],
 "metadata": {
  "kernelspec": {
   "display_name": "Python 3",
   "language": "python",
   "name": "python3"
  },
  "language_info": {
   "codemirror_mode": {
    "name": "ipython",
    "version": 3
   },
   "file_extension": ".py",
   "mimetype": "text/x-python",
   "name": "python",
   "nbconvert_exporter": "python",
   "pygments_lexer": "ipython3",
   "version": "3.12.4"
  }
 },
 "nbformat": 4,
 "nbformat_minor": 2
}
