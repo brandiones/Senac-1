{
 "cells": [
  {
   "cell_type": "code",
   "execution_count": 9,
   "metadata": {},
   "outputs": [
    {
     "name": "stdout",
     "output_type": "stream",
     "text": [
      "Nome: Marlene \n",
      "Peso: 4.5\n",
      "Au, Au!\n",
      "Nome: Cibele \n",
      "Peso: 4.5\n",
      "Miau!\n"
     ]
    }
   ],
   "source": [
    "#criando uma classe\n",
    "class Animal():\n",
    "    #Contrutor da classe\n",
    "    def __init__(self, name, weight, color):\n",
    "        #atributos\n",
    "        self.nome = name\n",
    "        self.peso = weight\n",
    "        self.corDoPelo = color\n",
    "        \n",
    "    def imprimirDados(self):\n",
    "        return(\"Nome: %s \\nPeso: %s\" %(self.nome, self.peso))\n",
    "    def latir(self, barulho):\n",
    "        print(barulho)\n",
    "\n",
    "#instanciando um objeto cachorro\n",
    "caozinho = Animal(\"Marlene\", 4.5, \"Caramelo\")\n",
    "gato = Animal(\"Cibele\", 4.5, \"Cinza\")\n",
    "\n",
    "#Chamando o metodo do objeto criado\n",
    "print(caozinho.imprimirDados())\n",
    "caozinho.latir(\"Au, Au!\")\n",
    "\n",
    "print(gato.imprimirDados())\n",
    "gato.latir(\"Miau!\")"
   ]
  },
  {
   "cell_type": "code",
   "execution_count": 14,
   "metadata": {},
   "outputs": [
    {
     "name": "stdout",
     "output_type": "stream",
     "text": [
      "Construtor chamado para criar um objeto desta classe\n",
      "Foi criado o livro O monge e o Executivo e ISBN 9988888\n"
     ]
    }
   ],
   "source": [
    "#criando uma classe chamada livro\n",
    "class Livro():\n",
    "    def __init__(self):\n",
    "        self.titulo = 'O monge e o Executivo'\n",
    "        self.isbn = 9988888\n",
    "        print(\"Construtor chamado para criar um objeto desta classe\")\n",
    "    \n",
    "    def imprime(self):\n",
    "        print(\"Foi criado o livro %s e ISBN %d\" %(self.titulo, self.isbn))\n",
    "#criando uma instancia da classe Livro\n",
    "Livro1 = Livro()\n",
    "#tipo do Objeto Livro1\n",
    "type(Livro)\n",
    "#atributo do objeto Livro1\n",
    "Livro1.titulo\n",
    "#metodo do objeto Livro\n",
    "Livro1.imprime()\n"
   ]
  },
  {
   "cell_type": "code",
   "execution_count": 18,
   "metadata": {},
   "outputs": [
    {
     "name": "stdout",
     "output_type": "stream",
     "text": [
      "Contrutor chamando para criar um objeto desta classe\n"
     ]
    }
   ],
   "source": [
    "class Livro():\n",
    "    def __init__(self, titulo, isbn):\n",
    "        self.titulo = titulo\n",
    "        self.isbn = isbn\n",
    "        #self.editora = editora\n",
    "        #self.autor = autor\n",
    "        print(\"Contrutor chamando para criar um objeto desta classe\")\n",
    "    \n",
    "    def imprime(self, titulo, isbn, editora, autor):\n",
    "        print(\"Esse e o livro %s e ISBN %d\" %(titulo, isbn))\n",
    "#criando o objeto Livro2 que e uma instancia da classe Livro\n",
    "Livro2 = Livro(\"A menina que Roubava Livros\", 77886611)"
   ]
  },
  {
   "cell_type": "code",
   "execution_count": 20,
   "metadata": {},
   "outputs": [
    {
     "data": {
      "text/plain": [
       "1987"
      ]
     },
     "execution_count": 20,
     "metadata": {},
     "output_type": "execute_result"
    }
   ],
   "source": [
    "class Pessoa():\n",
    "    def __init__(self, name, age): #variaves da funcao\n",
    "        self.nome = name #atributo da classe\n",
    "        self.idade = age #atributo da classe\n",
    "   \n",
    "    def nascimento(self,idade): #variavel da funcao\n",
    "        return(2022-idade) #retorna o ano que a pessoa nasceu\n",
    "pessoa1 = Pessoa(\"Maria\", 35) #criando um objeto a partir da classe\n",
    "pessoa1.nome #chamando um atributo do objeto\n",
    "pessoa1.idade #chamando um atributo do objeto\n",
    "pessoa1.nascimento(35) #chamando um metodo do objeto\n",
    "\n",
    "\n",
    "        "
   ]
  },
  {
   "cell_type": "code",
   "execution_count": 21,
   "metadata": {},
   "outputs": [
    {
     "name": "stdout",
     "output_type": "stream",
     "text": [
      "Nome: Walison, idade: 19 \n",
      "Nome: Ricardo, idade: 36 \n",
      "Nome: Renatha, idade: 30 \n",
      "Nome: Clara, idade: 30 \n",
      "Nome: Rebeca, idade: 23 \n",
      "Nome: Saulo, idade: 14 \n",
      "Nome: Wedson, idade: 24 \n",
      "Nome: William, idade: 18 \n",
      "Nome: Gabriel, idade: 10 \n",
      "Nome: Davi, idade: 10 \n"
     ]
    }
   ],
   "source": [
    "listaDePessoa=[] #criando lista vazia\n",
    "for i in range(10): #frequecia de repeticao do loop for, \n",
    "    nome = input(\"Digite os nomes: \") #entrada de dados\n",
    "    idade = int(input(\"Digite a idade: \")) #entrada de dados\n",
    "    pessoa = Pessoa(nome, idade) #criando objeto pessoa com a classe\n",
    "    listaDePessoa.append(pessoa) #cada elemento da lista e um objeto\n",
    "for objeto in range(len(listaDePessoa)):\n",
    "    print(\"Nome: %s, idade: %d \" %(listaDePessoa[objeto].nome, listaDePessoa[objeto].idade))"
   ]
  }
 ],
 "metadata": {
  "kernelspec": {
   "display_name": "Python 3",
   "language": "python",
   "name": "python3"
  },
  "language_info": {
   "codemirror_mode": {
    "name": "ipython",
    "version": 3
   },
   "file_extension": ".py",
   "mimetype": "text/x-python",
   "name": "python",
   "nbconvert_exporter": "python",
   "pygments_lexer": "ipython3",
   "version": "3.12.4"
  }
 },
 "nbformat": 4,
 "nbformat_minor": 2
}
