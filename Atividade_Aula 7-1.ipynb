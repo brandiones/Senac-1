{
 "cells": [
  {
   "cell_type": "code",
   "execution_count": 5,
   "metadata": {},
   "outputs": [
    {
     "name": "stdout",
     "output_type": "stream",
     "text": [
      "Seu imposto é: 2250.0\n"
     ]
    }
   ],
   "source": [
    "#peça ao usuário o valor do carro\n",
    "valorDoCarro = float(input(\"Digite o valor do carro:\"))\n",
    "#peça ao usuário o ano do carro\n",
    "qualAnoDoCarro = float(input(\"Qual o ano do seu carro\"))\n",
    "#crie duas variáveis para as taxas\n",
    "taxa1 = 1/100\n",
    "taxa2 = 1.5/100\n",
    "#se o ano do carro for antes de 1990 ele vai ter a taxa menor \n",
    "if(qualAnoDoCarro < 1990):\n",
    "#imprima na tela o imposto\n",
    "    print(\"Seu imposto é:\" , valorDoCarro * taxa1)\n",
    "#se o ano do carro for igual ou depois de 1990 vai ter a taxa maior\n",
    "else:\n",
    "#imprima na tela o imposto\n",
    "    print(\"Seu imposto é:\" , valorDoCarro * taxa2)\n",
    "     "
   ]
  },
  {
   "cell_type": "code",
   "execution_count": 9,
   "metadata": {},
   "outputs": [
    {
     "name": "stdout",
     "output_type": "stream",
     "text": [
      "Seu salário antigo era: 5000.0 Seu novo salário é: 5500.0 Sua diferença é: 500.0\n"
     ]
    }
   ],
   "source": [
    "cargo =  input(\"Qual seu cargo na empresa:\")\n",
    "salario = float(input(\"Qual seu salário atual:\"))\n",
    "\n",
    "if(cargo == '101' or cargo == 'Gerente'):\n",
    "    aumento = 10/100*salario\n",
    "    novoSalario = salario+aumento\n",
    "    print(\"Seu salário antigo era:\", salario ,\"Seu novo salário é:\", salario+aumento, \"Sua diferença é:\", novoSalario-salario)\n",
    "elif(cargo == '102' or cargo == 'Engenheiro'):\n",
    "    aumento = 20/100*salario\n",
    "    novoSalario = salario+aumento\n",
    "    print(\"Seu salário antigo era:\", salario ,\"Seu novo salário é:\", salario+aumento, \"Sua diferença é:\", novoSalario-salario)\n",
    "elif(cargo == '103' or cargo == 'Técnico'):\n",
    "    aumento = 30/100*salario\n",
    "    novoSalario = salario+aumento\n",
    "    print(\"Seu salário antigo era:\", salario ,\"Seu novo salário é:\", salario+aumento, \"Sua diferença é:\", novoSalario-salario)\n",
    "else:\n",
    "    aumento = 40/100*salario\n",
    "    novoSalario = salario+aumento\n",
    "    print(\"Seu salário antigo era:\", salario ,\"Seu novo salário é:\", salario+aumento, \"Sua diferença é:\", novoSalario-salario)\n",
    "\n",
    "\n"
   ]
  },
  {
   "cell_type": "code",
   "execution_count": 10,
   "metadata": {},
   "outputs": [
    {
     "name": "stdout",
     "output_type": "stream",
     "text": [
      "\n",
      "Seu salário antigo era: 2000.0 \n",
      "Seu novo salário é: 2200.0 \n",
      "Sua diferença é: 200.0\n"
     ]
    }
   ],
   "source": [
    "cargo =  input(\"Qual seu cargo na empresa:\")\n",
    "salario = float(input(\"Qual seu salário atual:\"))\n",
    "\n",
    "if(cargo == '101' or cargo == 'Gerente'):\n",
    "    aumento = 10/100*salario\n",
    "    novoSalario = salario+aumento\n",
    "    print(\"\\nSeu salário antigo era:\", salario ,\"\\nSeu novo salário é:\", salario+aumento, \"\\nSua diferença é:\", novoSalario-salario)\n",
    "elif(cargo == '102' or cargo == 'Engenheiro'):\n",
    "    aumento = 20/100*salario\n",
    "    novoSalario = salario+aumento\n",
    "    print(\"\\nSeu salário antigo era:\", salario ,\"\\nSeu novo salário é:\", salario+aumento, \"\\nSua diferença é:\", novoSalario-salario)\n",
    "elif(cargo == '103' or cargo == 'Técnico'):\n",
    "    aumento = 30/100*salario\n",
    "    novoSalario = salario+aumento\n",
    "    print(\"\\nSeu salário antigo era:\", salario ,\"\\nSeu novo salário é:\", salario+aumento, \"\\nSua diferença é:\", novoSalario-salario)\n",
    "else:\n",
    "    aumento = 40/100*salario\n",
    "    novoSalario = salario+aumento\n",
    "    print(\"\\nSeu salário antigo era:\", salario ,\"\\nSeu novo salário é:\", salario+aumento, \"\\nSua diferença é:\", novoSalario-salario)"
   ]
  }
 ],
 "metadata": {
  "kernelspec": {
   "display_name": "Python 3",
   "language": "python",
   "name": "python3"
  },
  "language_info": {
   "codemirror_mode": {
    "name": "ipython",
    "version": 3
   },
   "file_extension": ".py",
   "mimetype": "text/x-python",
   "name": "python",
   "nbconvert_exporter": "python",
   "pygments_lexer": "ipython3",
   "version": "3.10.11"
  }
 },
 "nbformat": 4,
 "nbformat_minor": 2
}
