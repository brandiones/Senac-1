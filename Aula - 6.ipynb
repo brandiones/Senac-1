{
 "cells": [
  {
   "cell_type": "markdown",
   "metadata": {},
   "source": [
    "Trabalhando a Indentação"
   ]
  },
  {
   "cell_type": "code",
   "execution_count": null,
   "metadata": {},
   "outputs": [],
   "source": [
    "if():\n",
    "elif():\n",
    "elif():\n",
    "else():"
   ]
  },
  {
   "cell_type": "code",
   "execution_count": null,
   "metadata": {},
   "outputs": [],
   "source": [
    "#faltou terminar\n",
    "if(1=1): #mesagem no primeiro nível\n",
    "\n",
    "    print"
   ]
  },
  {
   "cell_type": "markdown",
   "metadata": {},
   "source": [
    "Prática: Desafio"
   ]
  },
  {
   "cell_type": "code",
   "execution_count": 45,
   "metadata": {},
   "outputs": [
    {
     "name": "stdout",
     "output_type": "stream",
     "text": [
      "Vá assistir Netflix\n"
     ]
    }
   ],
   "source": [
    "#pergunte ao usuário sobre o clima\n",
    "tempo = input(\"Como está o clima? Se estiver fazendo sol, digite 1 se não digite 0:\")\n",
    "#Verificar se está fazendo sol\n",
    "if(tempo == '1' ):\n",
    "#pergunte ao usuário se ele tem dinheiro\n",
    "    dinheiro = input(\"Você tem dinheiro? Se estiver digite 1 se não digite 0:\")\n",
    "#Verificar se o usuário tem dinheiro\n",
    "    if(dinheiro == '1'):\n",
    "#imprima o texto na tela\n",
    "        print(\"Vou para praia\")\n",
    "#se não o usuário fica em casa\n",
    "    else:\n",
    "#imprima  o texto na tela\n",
    "        print(\"Vá assitir Netflix\")\n",
    "#se não tiver fazendo sol fica em casa\n",
    "else:\n",
    "#imprima o valor na tela\n",
    "    print(\"Vá assistir Netflix\")"
   ]
  }
 ],
 "metadata": {
  "kernelspec": {
   "display_name": "Python 3",
   "language": "python",
   "name": "python3"
  },
  "language_info": {
   "codemirror_mode": {
    "name": "ipython",
    "version": 3
   },
   "file_extension": ".py",
   "mimetype": "text/x-python",
   "name": "python",
   "nbconvert_exporter": "python",
   "pygments_lexer": "ipython3",
   "version": "3.10.11"
  }
 },
 "nbformat": 4,
 "nbformat_minor": 2
}
