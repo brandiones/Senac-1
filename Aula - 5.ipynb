{
 "cells": [
  {
   "cell_type": "code",
   "execution_count": 2,
   "metadata": {},
   "outputs": [
    {
     "name": "stdout",
     "output_type": "stream",
     "text": [
      "18\n"
     ]
    }
   ],
   "source": [
    "valor_int= int(input(\"Digite um número:\"))\n",
    "print(valor_int)"
   ]
  },
  {
   "cell_type": "code",
   "execution_count": 4,
   "metadata": {},
   "outputs": [
    {
     "name": "stdout",
     "output_type": "stream",
     "text": [
      "21\n"
     ]
    }
   ],
   "source": [
    "num1 = int(input('Digite um número:'))\n",
    "num2 = int(input('Digite outro número'))\n",
    "print(num1 + num2)"
   ]
  },
  {
   "cell_type": "code",
   "execution_count": 12,
   "metadata": {},
   "outputs": [
    {
     "name": "stdout",
     "output_type": "stream",
     "text": [
      "A soma dos valores é: 10.6\n"
     ]
    }
   ],
   "source": [
    "num1 = float(input('Digite um número:'))\n",
    "num2 = float(input('Digite outro número'))\n",
    "num3 = float(input('Digite último número'))\n",
    "resultado = (num1 + num2 + num3) / 3\n",
    "print('A soma dos valores é:' , resultado) \n",
    "\n",
    "\n"
   ]
  },
  {
   "cell_type": "code",
   "execution_count": 15,
   "metadata": {},
   "outputs": [
    {
     "name": "stdout",
     "output_type": "stream",
     "text": [
      "Seu salário é: 6000.0\n"
     ]
    }
   ],
   "source": [
    "valor = float(input('Quanto você ganha por hora?'))\n",
    "hora = int(input('Quantas horas você trabalha por mês?'))\n",
    "salario = (valor * hora)\n",
    "print('Seu salário é:' , salario)\n",
    "\n"
   ]
  },
  {
   "cell_type": "code",
   "execution_count": null,
   "metadata": {},
   "outputs": [],
   "source": [
    "#Desafio"
   ]
  },
  {
   "cell_type": "code",
   "execution_count": 21,
   "metadata": {},
   "outputs": [
    {
     "name": "stdout",
     "output_type": "stream",
     "text": [
      "Não precisa pagar taxa.\n"
     ]
    }
   ],
   "source": [
    "#Valor do peixe\n",
    "peso = float(input('Quantos quilos de peixe pescado?'))\n",
    "#Verificar se há excesso do peso\n",
    "if (peso > 50):\n",
    "#Calcular o excesso de peso\n",
    "    exc = peso - 50\n",
    "#Calcular o valor da multa\n",
    "    multa = exc * 4\n",
    "#Exibir a multa a pagar\n",
    "    print('Valor do execesso é:' , exc)\n",
    "    print('O valor da multa é:' , multa )\n",
    "#Se não houver excesso\n",
    "else:\n",
    "    print('Não precisa pagar taxa.')\n"
   ]
  },
  {
   "cell_type": "code",
   "execution_count": null,
   "metadata": {},
   "outputs": [],
   "source": []
  }
 ],
 "metadata": {
  "kernelspec": {
   "display_name": "Python 3",
   "language": "python",
   "name": "python3"
  },
  "language_info": {
   "codemirror_mode": {
    "name": "ipython",
    "version": 3
   },
   "file_extension": ".py",
   "mimetype": "text/x-python",
   "name": "python",
   "nbconvert_exporter": "python",
   "pygments_lexer": "ipython3",
   "version": "3.10.11"
  }
 },
 "nbformat": 4,
 "nbformat_minor": 2
}
