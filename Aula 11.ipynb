{
 "cells": [
  {
   "cell_type": "markdown",
   "metadata": {},
   "source": [
    "PRATICANDO FOR E WHILE"
   ]
  },
  {
   "cell_type": "code",
   "execution_count": 39,
   "metadata": {},
   "outputs": [
    {
     "name": "stdout",
     "output_type": "stream",
     "text": [
      "\n",
      " 5 patinhos foram passear \n",
      " Além das montanhas para brincar \n",
      " A mamãe gritou: Quá, quá, quá, quá \n",
      " Mas só 4 voltaram de lá.\n",
      "\n",
      " 4 patinhos foram passear \n",
      " Além das montanhas para brincar \n",
      " A mamãe gritou: Quá, quá, quá, quá \n",
      " Mas só 3 voltaram de lá.\n",
      "\n",
      " 3 patinhos foram passear \n",
      " Além das montanhas para brincar \n",
      " A mamãe gritou: Quá, quá, quá, quá \n",
      " Mas só 2 voltaram de lá.\n",
      "\n",
      " 2 patinhos foram passear \n",
      " Além das montanhas para brincar \n",
      " A mamãe gritou: Quá, quá, quá, quá \n",
      " Mas só 1 voltaram de lá.\n",
      "\n",
      " 1 patinhos foram passear \n",
      " Além das montanhas para brincar \n",
      " A mamãe gritou: Quá, quá, quá, quá \n",
      " Mas só 0 voltaram de lá.\n",
      "\n",
      " A mamãe patinha foi procurar \n",
      " Além das montanhas na beira do mar\n",
      " A mamãe gritou: Quá, quá, quá, quá\n",
      " E os 5 patinhos voltaram de lá.\n"
     ]
    }
   ],
   "source": [
    "#PRATICANDO COM QUESTÃO: XUXA, RAINHA DOS BAIXINHOS. VOÇÊ PRECISA AUTOMATIZAR A IMPRESSÃO DESSA MÚSICA NO TERMINAL USANDO FOR OU WHILE. OBS: NÃO ADIANTE DE NADA VOCÊ COLOCAR ELA INTEIRA DENTRO DE UM PRINT.\n",
    "patos = 5\n",
    "for num in range(5):   \n",
    "    print(\"\\n\", patos, \"patinhos foram passear\", \"\\n Além das montanhas para brincar\",\"\\n A mamãe gritou: Quá, quá, quá, quá\",\"\\n Mas só\", patos-1, \"voltaram de lá.\"   )\n",
    "    patos -=1\n",
    "print(\"\\n A mamãe patinha foi procurar\",\"\\n Além das montanhas na beira do mar\" \"\\n A mamãe gritou: Quá, quá, quá, quá\" \"\\n E os 5 patinhos voltaram de lá.\")"
   ]
  },
  {
   "cell_type": "markdown",
   "metadata": {},
   "source": [
    "8. Faça um programa que receba um número e usando laços de repetição calcule e mostre a tabuada desse número."
   ]
  },
  {
   "cell_type": "code",
   "execution_count": 38,
   "metadata": {},
   "outputs": [
    {
     "name": "stdout",
     "output_type": "stream",
     "text": [
      "Essa é sua tabela:\n",
      "\n",
      " 10 x 0 = 0\n",
      "\n",
      " 10 x 1 = 10\n",
      "\n",
      " 10 x 2 = 20\n",
      "\n",
      " 10 x 3 = 30\n",
      "\n",
      " 10 x 4 = 40\n",
      "\n",
      " 10 x 5 = 50\n",
      "\n",
      " 10 x 6 = 60\n",
      "\n",
      " 10 x 7 = 70\n",
      "\n",
      " 10 x 8 = 80\n",
      "\n",
      " 10 x 9 = 90\n",
      "\n",
      " 10 x 10 = 100\n"
     ]
    }
   ],
   "source": [
    "numero = int(input('Digite um número inteiro:'))\n",
    "print(\"Essa é sua tabela:\")\n",
    "for num in range (11):\n",
    "    print(\"\\n\",numero , \"x\" , num, \"=\",  numero * num )\n",
    "\n",
    "   \n",
    "\n"
   ]
  }
 ],
 "metadata": {
  "kernelspec": {
   "display_name": "Python 3",
   "language": "python",
   "name": "python3"
  },
  "language_info": {
   "codemirror_mode": {
    "name": "ipython",
    "version": 3
   },
   "file_extension": ".py",
   "mimetype": "text/x-python",
   "name": "python",
   "nbconvert_exporter": "python",
   "pygments_lexer": "ipython3",
   "version": "3.10.11"
  }
 },
 "nbformat": 4,
 "nbformat_minor": 2
}
