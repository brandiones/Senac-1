{
 "cells": [
  {
   "cell_type": "markdown",
   "metadata": {},
   "source": [
    "Elabore estruturas de repetição com Python para transformar em código as músicas infantis:\n",
    "\n",
    "Viva Mariana;\n",
    "Um Elefante Incomoda."
   ]
  },
  {
   "cell_type": "code",
   "execution_count": 68,
   "metadata": {},
   "outputs": [
    {
     "name": "stdout",
     "output_type": "stream",
     "text": [
      "\n",
      "Mariana conta 1 \n",
      "Mariana conta 1: é 1, é 1, é! \n",
      "Ana, viva a Mariana, viva a Mariana\n",
      "\n",
      "Mariana conta 2\n",
      "Mariana conta 2 é 1 é 2 é\n",
      "Ana, viva a Mariana, viva a Mariana\n",
      "\n",
      "Mariana conta 3\n",
      "Mariana conta 3 é 1 é 2 é 3 é\n",
      "Ana, viva a Mariana, viva a Mariana\n",
      "\n",
      "Mariana conta 4\n",
      "Mariana conta 4 é 1 é 2 é 3 é 4 é\n",
      "Ana, viva a Mariana, viva a Mariana\n",
      "\n",
      "Mariana conta 5\n",
      "Mariana conta 5 é 1 é 2 é 3 é 4 é 5 é\n",
      "Ana, viva a Mariana, viva a Mariana\n",
      "\n",
      "Mariana conta 6\n",
      "Mariana conta 6 é 1 é 2 é 3 é 4 é 5 é 6 é\n",
      "Ana, viva a Mariana, viva a Mariana\n",
      "\n",
      "Mariana conta 7\n",
      "Mariana conta 7 é 1 é 2 é 3 é 4 é 5 é 6 é 7 é\n",
      "Ana, viva a Mariana, viva a Mariana\n",
      "\n",
      "Mariana conta 8\n",
      "Mariana conta 8 é 1 é 2 é 3 é 4 é 5 é 6 é 7 é 8 é\n",
      "Ana, viva a Mariana, viva a Mariana\n",
      "\n",
      "Mariana conta 9\n",
      "Mariana conta 9 é 1 é 2 é 3 é 4 é 5 é 6 é 7 é 8 é 9 é\n",
      "Ana, viva a Mariana, viva a Mariana\n",
      "\n",
      "Mariana conta 10\n",
      "Mariana conta 10 é 1 é 2 é 3 é 4 é 5 é 6 é 7 é 8 é 9 é 10 é\n",
      "Ana, viva a Mariana, viva a Mariana\n"
     ]
    }
   ],
   "source": [
    "for a in range(1,11):\n",
    "    if a ==1:\n",
    "        print(\"\\nMariana conta 1 \\nMariana conta 1: é 1, é 1, é! \\nAna, viva a Mariana, viva a Mariana\")\n",
    "    else:\n",
    "        print(\"\\nMariana conta\", a)\n",
    "        print(\"Mariana conta\",a, end='')\n",
    "        for b in range(1, a+1):\n",
    "            print(\" é\",b, end='')\n",
    "        print(\" é\")\n",
    "        print(\"Ana, viva a Mariana, viva a Mariana\")\n",
    "        "
   ]
  },
  {
   "cell_type": "code",
   "execution_count": 8,
   "metadata": {},
   "outputs": [
    {
     "name": "stdout",
     "output_type": "stream",
     "text": [
      "1 Elefante incomadam muita gente\n",
      "2 Elefante incomodam,incomodam, muito mais\n",
      "3 Elefantes incomodam muito mais\n",
      "4 Elefante incomodam,incomodam,incomodam,incomodam, muito mais\n",
      "5 Elefantes incomodam muito mais\n",
      "6 Elefante incomodam,incomodam,incomodam,incomodam,incomodam,incomodam, muito mais\n",
      "7 Elefantes incomodam muito mais\n",
      "8 Elefante incomodam,incomodam,incomodam,incomodam,incomodam,incomodam,incomodam,incomodam, muito mais\n",
      "9 Elefantes incomodam muito mais\n",
      "10 Elefante incomodam,incomodam,incomodam,incomodam,incomodam,incomodam,incomodam,incomodam,incomodam,incomodam, muito mais\n",
      "10 Elefantes incomodam muito gente\n",
      "9 Elefante incomodam,incomodam,incomodam,incomodam,incomodam,incomodam,incomodam,incomodam,incomodam, muito menos\n",
      "8 Elefantes incomodam muito gente\n",
      "7 Elefante incomodam,incomodam,incomodam,incomodam,incomodam,incomodam,incomodam, muito menos\n",
      "6 Elefantes incomodam muito gente\n",
      "5 Elefante incomodam,incomodam,incomodam,incomodam,incomodam, muito menos\n",
      "4 Elefantes incomodam muito gente\n",
      "3 Elefante incomodam,incomodam,incomodam, muito menos\n",
      "2 Elefantes incomodam muito gente\n",
      "1 Elefante incomadam muita gente\n"
     ]
    }
   ],
   "source": [
    "for elefante in range(1,11):\n",
    "    if elefante % 2 == 0:\n",
    "        print(elefante,\"Elefante\",elefante*\"incomodam,\",\"muito mais\")\n",
    "    else:\n",
    "        if elefante == 1:\n",
    "            print(elefante,\"Elefante incomadam muita gente\")\n",
    "        else:\n",
    "            print(elefante,\"Elefantes incomodam muito mais\")\n",
    "for elefante1 in range(10,0, -1):\n",
    "    if elefante1 % 2 == 1:\n",
    "        if elefante1 == 1:\n",
    "            print(elefante1,\"Elefante incomadam muita gente\")\n",
    "        else:\n",
    "            print(elefante1,\"Elefante\",elefante1*\"incomodam,\",\"muito menos\")\n",
    "    else:\n",
    "        print(elefante1,\"Elefantes incomodam muito gente\")\n",
    "        \n"
   ]
  },
  {
   "cell_type": "code",
   "execution_count": null,
   "metadata": {},
   "outputs": [],
   "source": [
    "\n",
    "\n",
    "\n",
    " "
   ]
  }
 ],
 "metadata": {
  "kernelspec": {
   "display_name": "Python 3",
   "language": "python",
   "name": "python3"
  },
  "language_info": {
   "codemirror_mode": {
    "name": "ipython",
    "version": 3
   },
   "file_extension": ".py",
   "mimetype": "text/x-python",
   "name": "python",
   "nbconvert_exporter": "python",
   "pygments_lexer": "ipython3",
   "version": "3.11.2"
  }
 },
 "nbformat": 4,
 "nbformat_minor": 2
}
